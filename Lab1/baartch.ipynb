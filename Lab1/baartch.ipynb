{
 "cells": [
  {
   "cell_type": "code",
   "execution_count": 1,
   "id": "industrial-magic",
   "metadata": {},
   "outputs": [
    {
     "data": {
      "text/plain": [
       "'test'"
      ]
     },
     "execution_count": 1,
     "metadata": {},
     "output_type": "execute_result"
    }
   ],
   "source": [
    "x = \"test\"\n",
    "x"
   ]
  },
  {
   "cell_type": "markdown",
   "id": "foreign-catch",
   "metadata": {},
   "source": [
    "### learning\n",
    "Learning how to work with the jupyter notebooks\n",
    "\n",
    "In navigation mode, navigate with 'j' and 'k',  press 'm' to enable markdown mode. Enter with 'Enter'\n",
    "\n",
    "a creates a cell above, b creates a cell below. dd deletes a cell"
   ]
  },
  {
   "cell_type": "markdown",
   "id": "raising-profit",
   "metadata": {},
   "source": [
    "# Install dydx python"
   ]
  },
  {
   "cell_type": "code",
   "execution_count": null,
   "id": "floating-australia",
   "metadata": {},
   "outputs": [],
   "source": []
  }
 ],
 "metadata": {
  "kernelspec": {
   "display_name": "Python 3",
   "language": "python",
   "name": "python3"
  },
  "language_info": {
   "codemirror_mode": {
    "name": "ipython",
    "version": 3
   },
   "file_extension": ".py",
   "mimetype": "text/x-python",
   "name": "python",
   "nbconvert_exporter": "python",
   "pygments_lexer": "ipython3",
   "version": "3.8.5"
  }
 },
 "nbformat": 4,
 "nbformat_minor": 5
}
